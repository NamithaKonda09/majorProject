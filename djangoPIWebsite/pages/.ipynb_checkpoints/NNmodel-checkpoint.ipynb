{
 "cells": [
  {
   "cell_type": "code",
   "execution_count": 1,
   "metadata": {},
   "outputs": [],
   "source": [
    "import pandas as pd\n",
    "import numpy as np\n",
    "import nltk"
   ]
  },
  {
   "cell_type": "code",
   "execution_count": 2,
   "metadata": {},
   "outputs": [
    {
     "name": "stdout",
     "output_type": "stream",
     "text": [
      "     class                                               text Unnamed: 2\n",
      "0      yes  What's the difference between the  iPhone X  a...        NaN\n",
      "1       no  @ siracusa  just listened to Hypercritical #16...        NaN\n",
      "2      yes  Same.  IPhone X  won't be bad   https:// twitt...        NaN\n",
      "4       no    iphone x  for 150 do i have dickhead written...        NaN\n",
      "5      yes       This  iPhone X  still very sexy a year later        NaN\n",
      "...    ...                                                ...        ...\n",
      "1675    no  Ew  iPhone  7s camera quality looks so trash n...        NaN\n",
      "1677    no  @ Apple  hey why does your brand new  expensiv...        NaN\n",
      "1678    no  Unpopular opinion: I  hate  the  iPhone   X  m...        NaN\n",
      "1681   yes                i want the  iphone   x  so  bad  :(        NaN\n",
      "1682    no  can anyone explain to me why the incredibly  e...        NaN\n",
      "\n",
      "[903 rows x 3 columns]\n"
     ]
    }
   ],
   "source": [
    "def Extract (path):\n",
    "    fd= open(path,encoding=\"utf-8\", errors='replace')\n",
    "    df = pd.read_csv(fd)   \n",
    "    defined=df['class'] != (\"undefined\")\n",
    "    # #output dataframe without undeined\n",
    "    df2=df[defined]\n",
    "    defined1=df2['class'] !=\"Undefined\"\n",
    "    df4=df2[defined1]\n",
    "    #replace no PI with no\n",
    "    df3=df4.replace(\"No PI\",\"no\")\n",
    "    #replace PI with yes\n",
    "    final=df3.replace(\"PI\",\"yes\")\n",
    "    \n",
    "    replace_yes=final.replace(\"Yes\",\"yes\")\n",
    "    final_df= replace_yes.replace(\"No\",\"no\")\n",
    "    return final_df, df\n",
    "\n",
    "path='datasets/training.csv'\n",
    "final_df,df=Extract(path)\n",
    "# print(df['class'].value_counts())\n",
    "print(final_df)\n"
   ]
  },
  {
   "cell_type": "code",
   "execution_count": 3,
   "metadata": {},
   "outputs": [
    {
     "name": "stdout",
     "output_type": "stream",
     "text": [
      "          class                                               text Unnamed: 2\n",
      "3     undefined  Ive had the iphone 8 plus and  iphone x  and i...        NaN\n",
      "6     undefined  I need some new phone cases   #iphoneX  #phone...        NaN\n",
      "11    undefined  Jailbroke first time on 11.3.1 using MP! Great...        NaN\n",
      "13    undefined  Cactus Travel Mug \\n\\n  http:// etsy.me/2C8ZcS...        NaN\n",
      "14    undefined  # official  discount #code  oneplus 6t\\n\\n--> ...        NaN\n",
      "...         ...                                                ...        ...\n",
      "1671  undefined           Oh my  bad  lol its from the  iPhone   X        NaN\n",
      "1672  undefined  @ tim_cook  @Apple   iPhone   X  which is wate...        NaN\n",
      "1676  undefined  $150 Fake  iPhone   X  vs $1150  iPhone   X ! ...        NaN\n",
      "1679  undefined  Apple  iPhone   X  64GB Smartphone Space Gray ...        NaN\n",
      "1680  undefined  The  bad  thing of not having a  iPhone   X  i...        NaN\n",
      "\n",
      "[623 rows x 3 columns]\n"
     ]
    }
   ],
   "source": [
    "#create series of true and false. False is assigned for yes/no. True is for undefined\n",
    "undefined=df['class'] == \"undefined\" \n",
    "#output dataframe without undeined\n",
    "df_undefine=df[undefined]\n",
    "print(df_undefine)"
   ]
  },
  {
   "cell_type": "code",
   "execution_count": 4,
   "metadata": {},
   "outputs": [],
   "source": [
    "def text_concat():\n",
    "    text=\"\"\n",
    "    for x in final_df[\"text\"]:\n",
    "        text=text +str(x)\n",
    "    return text\n",
    "corpus=text_concat()"
   ]
  },
  {
   "cell_type": "code",
   "execution_count": 5,
   "metadata": {},
   "outputs": [],
   "source": [
    "import re\n",
    "from nltk.corpus import stopwords \n",
    "from nltk.tokenize import word_tokenize \n",
    "\n",
    "def removeStopWords(text):\n",
    "    stop_words = set(stopwords.words('english')) \n",
    "    word_tokens = word_tokenize(text) \n",
    "    filtered_sentence = [] \n",
    "    for w in word_tokens: \n",
    "        if w not in stop_words: \n",
    "            filtered_sentence.append(w.lower()) \n",
    "    #return list of corpus without stop words in a list.        \n",
    "    return filtered_sentence  \n",
    "\n",
    "def removePunc(eachText):\n",
    "    remove_punc = re.sub(r'[^\\w\\s]','',eachText)\n",
    "    #return corpus with out punctuation.\n",
    "    return remove_punc\n",
    "\n",
    "\n",
    "\n",
    "def clean_data(corpus):\n",
    "    remove_punc=removePunc(corpus)\n",
    "    li_remove_stopWords= removeStopWords(remove_punc)\n",
    "    return li_remove_stopWords\n",
    "\n",
    "li_cleaned_text = clean_data(corpus)\n",
    "# bprint(li_cleaned_text)"
   ]
  },
  {
   "cell_type": "code",
   "execution_count": 6,
   "metadata": {},
   "outputs": [
    {
     "name": "stdout",
     "output_type": "stream",
     "text": [
      "['feign', 'lte', 'xnot', 'including', 'gf', 'getting', 'chez', 'shitif', 'welcome', 'sales', 'xreally', 'xmasi', 'handed', 'itgood', 'boringoh', 'anythingthink', 'nowsomething', 'is', 'break', 'your', 'done', 'deck', '12th', 'game', 'pictwittercomh6anld8kpy', 'repeatedly', 'videos', '4mbit', 'brothers', 'fieldguidegizmodocomwhyyoudontn', 'roverebaycomrover171153', 'incredible', 'af', 'ack', 'considerfuck', 'almost', 'know', 'please', 'redesign', 'trash', 'na', 'plzi', 'tiny', 'glitch', 'johnlegere', 'jasonnash', 'phonearenacomnewshereish', 'am', 'leedle', 'youtubenpt5tsd0bbi', 'thankswhen', 'popping', 'jesusi', 'funding', 'agli', 'srorythe', 'top', 'download', 'ucnews_india', 'playing', 'biggest', '1724', 'downgrade', 'upset', 'accessible', 'that', 'lulu', 'calls', 'rep', 'trashy', 'living', '40', 'slide', 'twittercomtyonna_mossst', 'needmy', 'sell', 'screenshots', 'ittim', 'badpengen', 'thumb', 'parts', 'save', 'win', 'taken', 'orderhow', 'oledapple', 'isnt', 'tims', 'ohh', 'badthat', 'slightly', 'sir', 'starting', 'longer', 'inuse', 'xd', 'kaitgirlosb', 'oled', 'buyer', 'gunna', 'rlly', 'fest', 'shrek', 'screeni', 'will', 'only', 'shattered', 'come', 'thread', 'employer', 'xnice', 'plusin', 'xim', 'tus926660732162154496', 'pushed', 'happens', 'prowant', 'yeah', 'go', 'instead', 'issues', 'tracking', 'their', 'weather', 'badiphone', 'watchwhy', 'rather', 'busting', 'facetime', 'twittercomtia_ewingstat', 'nowthat', 'camerajust', 'facechange', 'onecan', 'galaxy', 'would', '2001925501ff34pub5575041009toolid10001campid5337506718customidmprehttpwwwebaycomitmappleiphonexa1901256gbattbadimeinearmintcondition2309333151633331', '4th', 'iphone', 'pay', 'talli', 'cameras', 'waiting', 'place', 'tradingi', '7s', 'gamblewish', 'second', 'phonei', 'ipad', 'time', 'lunch', 'mother', 'assistance', '12', 'appledictation', 'fair', 'love', 'treesi', 'all', 'izen', 'boring', 'lucknow', 'within', 'wake', 'creating', 'flagshipsbullshit', 'america', 'letter', 'itim', 'surprise', 'b4', 'used', 'requires', 'watch', 'word', 'sizehow', 'leastthats', 'allowed', '24', 'comparison', 'set', 'xs', 'onlyyyy', 'diary', 'skyuki', 'humpty', 'dumb', 'mail', 'charges', 'aware', 'owned', 'selfie', 'bet', 'looks', 'temps', 'deciding', 'using', 'feels', 'turned', 'efkj8m0aemiim4jh0x3cgyiq3d3dutm_sourcecompetitionutm_mediumreferralutm_campaigncompetition20sharing', 'knocki', 'drove', 'pad', 'cry', 'onboard', 'agree', '10the', 'en', 'yrs', 'tipsi', 'access', 'suffered', 'clone', 'acting', 'sometimesi', 'an', 'presents', 'riverdalei', 'sirhows', 'spends', 'heap', 'badstingeyness', 'move', 'most', 'white', 'winner', 'rock', 'model', 'network', 'offer', 'xto', 'lost', '420p', 'ityall', 'benton', 'horrendous', 'poop', 'flawless', 'buttt', 'person', 'gadgets', 'aint', 'watching', 'made', 'swiping', 'utter', '928252802505367552', 'seeing', 'indiawas', 'ill', 'proi', 'anything', 'could', 'uglier', 'far', 'walking', 'ps', 'firstif', 'impulse', 'freethe', 'though', 'macbooks', 'bank', 'production', 'told', 'pick', 'nowdo', 'bitly2hvp8cy', 'method', 'pic', 'aux', 'edition', 'facttheyre', 'entire', 'calling', 'cool', 'what', 'goodgot', 'badwant', 'soonugh', 'pradesh', 'pictwittercomj5zkczudnilmao', 'foodforthoughtneed', 'xdoes', 'dollars', 'kill', 'quality', 'spoofing', 'handsso', 'justified', 'plan', 'probably', 'constantlydaily', 'lifetime', 'streaming', 'trap', 'sooooo', 'canceled', 'youtubeed3r9bzzlge', 'cause', 'cases', 'hello', '2', 'concludes', 'simple', 'alreadywhen', 'crisis', 'pleasewish', 'ggget', 'ifttt2ynoaib', 'hardly', 'lil', 'unresponsiveso', 'truly', 'activated', 'meface', 'wasted', '1200', 'steve', 'availability', 'shifting', 'via', 'easy', 'hazratganj', 'got', 'ah', 'processor', 'sickthe', 'asap', 'sc', 'cute', 'guapo', 'design', 'choicei', 'ahead', 'congraz', 'button', 'square', '1rst', 'blurs', 'however', 'ecosystem', 'sometimes', 'product', 'britney', 'biggeri', 'ughhhgonna', 'lol', 'receive', 'dufresh4', 'care', 'fuckin', 'owyoucangetafreeiphone864gbwhenyoubuyaniphonexatatt_id99708', 'bitly2i79hpw', 'downloaded', 'you', 'nerdwomanisme', 'cs', 'hours', 'snapchat', 'planning', 'firstworldproblemshate', 'kingseun3', 'suxxexx', 'without', 'reviewi', 'shiti', 'share', 'than', 'software', 'stuff', 'no1', 'evr', 'estimates', 'interested', 'screenlooking', '200', 'three', 'dinner', 'wonderful', 'isiphones', 'badi', 'okay', 'spoil', 'kidney', 'trust', 'works', 'expected', 'phoneynwamy', 'increasingly', 'guy', 'fine', 'advantage', 'pointthank', 'twins', 'named', 'released', 'articles', 'screwed', 'still', 'somehow', 'jumia', 'get', 'these', 'anytime', 'accuracy', '3t', 'high', 'girls', 'cave', 'heart', 'xlove', 'knowing', 'iphones', 'utterly', '64gb', 'pictwittercomnyweul06f8i', 'figure', 'golden', 'thankssee', 'searcher', 'consistently', 'nonejust', 'again', 'wowmy', 'held', 'buggati', 'wanting', 'experienced', '4gb', 'swore', 'iwatch', '927002329819127808', 'fast', 'op', 'even', 'europe', 'pake', 'xlet', 'ting', 'controls', 'dndjjdthe', 'pray', 'bonkers', 'mashable', 'looked', 'forgotten', 'take', 'experiencing', 'iphonexso', 'filling', 'bettertayabu', 'small', 'if', '8s', 'hey', 'portacharger', '34', 'given', 'headers', 'although', 'ab', 'sync', 'obviously', 'dec', 'prayersof', 'hard', 'ghosting', 'managed', 'slimmer', 'more', 'shop', 'likely', 'strong', 'hypercritical', 'millions', 'usually', 'apparently', 'prontomore', 'realisticallythe', 'fund', 'contract', 'de', 'turns', 'saadilamdin', 'fall', 'nhs', 'lots', 'thxyeah', 'insides', 'notch', 'money', 'unhappy', 'airplane', 'may3', 'yea', 'allwayshey', 'attempt', 'world', 'annoyed', 'cousin', 'should', 'movie', 'appreciated', 'strongly', '4k', 'camerai', 'sundar', 'jss', 'ago', 'promises', 'seemed', 'tweet', 's1114158786871054336', 'honestly', 'flight', 'rid', 'xsweet', 'pictwittercomjixvit1k0swhy', 'put', 'closed', 'whatever', 'confirm', 'always', 'needs', 'patiently', 'gave', 'llama', 'lgv20', 'premium', 'wouldve', 'nofilter', 'outits', 'swipe', 'longest', 'scammersi', 'plusonly', 'picsyeah', 'daymaybe', 'bestyup', 'x', 'main', 'resort', 'biased', 'reader', 'delivery', 'owns', 'upshelp', 'instagramcompbbsvyonfboy', 'historical', 'unlocks', 'theyre', 'broken', 'fool', 'ifttt2hnqh9i', 'worldi', 'become', 'simba', 'incredibly', 'ass', 'apartment', 'o2', 'ones', 'dont', 'hellomotoi', 'process', 'best', 'sign', 'waste', 'c4etechtamil', 'device', 'communism', 'nobody', '100mph', 'pictwittercomgu7wn22niai', 'peoples', 'public', 'xthose', 'luxurious', 'do', 'find', 'pictwittercomiqthus92dkthe', '256gbiphone', 'dayactually', 'iris', 'teeth', 'ft', 'upgrading', 'stupid', 'rolling', 'youtubeymjm2r1svwma', 'controversial', '24k', 'socialmediamarketing', 'reali', 'pushing', 'notice', 'ordered', 'xwait', 'thinking', 'killing', 'youtubeno', 'wow', 'roundmy', 'try', 'tired', 'plzthe', 'itll', 'checked', 'between', 'fooling', 'gon', 'rejoin', 'arrive', 'aapl', 'brightness', 'who', '20', 'liked', 'trying', 'fbme1jd4s5mfc', 'went', 'fit', '38000', '1063', 'quick', 'film', 'oneeeee', 'lot', 'pictwittercomxaedq2tu4nliterally', 'grow', 'price', 'different', 'changed', '8need', 'forget', 'pto', 'behind', 'olds', 'savings', '89', 'iphonexthe', 'christmas', 'thisthat_tha3rd', 'where', 'imac', 'photographer', 'showerdamn', 'swiveling', 'assistive', 'pls', 'notsamsung', 'driving', 'anywaythe', 'bas', 'everythingdamn', 'butiphone', 'xmannn', 'decide', 'started', 'week', 'pictwittercomrueekshlb6lol', 's3', 'mad', '26', 'servicei', 'size', 'storewish', 'experience', 'razer', 'useless', 'slow', 'socialism', 'chinsi', 'early', 'quit', 'tae', 'pictwittercom9maes4iod2i', 'alsougghhh', 'servicebeen', '90', '89999', 'a130pm', 'encourage', 'contemplating', 'man', 'loyalist', 'manufacture', 'commuter', '1sad', 'father', 'makes', '300', 'blew', 'slowing', 'clappedlooks', 'dat', 'mistake', 'listen', 'was', 'monthsget', 'pix', 'anyone', 'thisat', 'tabs', 'tiene', 'purchased', 'anymore', 'confident', 'mbad', 'his', 'freehold', 'picture', 'r', 'justify', 'wayvery', 'nowbruhh', 'sooooooo', 'polished', 'add', 'bids', 'popular', 'sr', 'designsfuck', 'back', 'space', 'market', 'backwhy', 'combining', 'signed', 'tim', 'lolget', 'chinese', 'background', 'oldest', 'picking', '10yearold', 'vid', 'samsungmobile', 'toohate', 'less', 'thingim', 'biscuit', 'twittercomiwebstatus9', 'baddo', 'appledidnt', 'plusevery', 'pictwittercomazbkwbuvwp', 'selfies', 'offthats', 'odd', 'tculpan', 'log', 'solid', 'disgustingi', 'twitter', 'a5', 'youyes', 'mon', 'tire', 'due', 'animojis', 'numerals', 'checksi', 'radial', 'xrxsxs', 'overall', 'condition', 'dislike', 'animojilife', 'chandlerperrer', 'real', 'scituate', 'phoneits', 'flop', 'nothin', 'badim', 'wack', 'protect', 'sucks', '100000', 'collective', 'rack', 'stuck', '25', 'attention', 'faceid', 'accidental', 'at', 'tradein', 'youtube9ca8zwjolfq', 'cap', 'work', 'systemiphone', 'also', 'craigslistlooked', 'asapi', 'available', '45', 'wtf', 'boy', 'primary', 'bansiphone', 'bf', 'listened', 'surfaces', 'magic', 'benefiti', 'after', 'says', 'knows', 'itid', 'brandswow', '64', 'kid', 'recommended', 'switching', 'kdbut', 'touch', 'apart', 'festive', 'iftttea8v8j', 'orders', 'deals', 'headphones', 'bros', 'srrytwo', 'randomly', 'build', 'brick', 'eyes', 'outso', 'pictwittercomoc2lbvmdo1if', 'charger', '2015', 'understand', 'andddddd', 'yahoocomnewsiphonex', 'sale', 'misses', 'finally', 'nokia', 'list', 'per', 'big', 'loans', 'tm', '40k', 'promise', 'genuinely', 'brokeok', 'xsomeone', 'bc', 'barley', 'version', 'nephew', 'gaming', 'twittercomafuaasamstatu', 'buyingi', 'are', 'youd', 'why', '6sand', 'chains', '68', 'stop', 'title', 'replaced', 'sitting', 'fml', 'amma', 'smart', 'vouchercloudcomdid1988896r', 'technologymy', 'authorised', 'akhirnya', 'qualityi', 'games', 'fansite', 'worse', 'nownoooooooooo', 'gold', 'pictwittercomx1bnvnseqzso', 'nothingwant', 'needless', 'davidinglestviphone', 'zoellas', 'soul', 'faster', 'darkwatch', 'lovely', 'wishlist', 'bad', 'hoping', 'n', 'friends', 'hold', 'taskthis', 'later', 'forever', 'youll', 'shot', 'freezing', 'estimated', 'daddy', 'investment', 'in', 'dick', 'relationshiplets', 'suckssss', 'adjust', 'diehard', 'tv', 'shower', 'weirdthe', 'feature', 'monthswish', 'feeling', 'adulting', 'youtubedjeyzgq8anaa', 'ughhhits', 'reviews', 'tried', 'x2day', 'mess', 'honda', 'backimma', 'range', 'instagramcompbbxanptje3i', 'themiphone', 'pressing', 'sure', 'mobile', 'news', '30', 'chance', 'whatsapp', 'iphone8', 'oneplus', 'situation', 'xthe', 'dawggggcan', 'casey', 'doesnt', 'telli', 'walked', 'ready', 'wait', 'key', 'apple_com', 'hahahaha', '2so', 'saved', 'twittercomming9_prstatu', 'vagaries', 'mode', 'floor', 'paychecks', 'lilyhands', 'showing', 'backgrounds', 'representative', 'mommy', 'patronize', 'jesus', 'thenewspocketcom20190412the', 'needed', 'fuck', 'charge', 'monthly', 'little', 'gizmodo', 'rangehonestly', 'actuallybuy', 'older', 'bucks', 'need', 'goodthat', 'dies', 'pleasei', 'jack', 'banksy', 'first', 'rt', 'dudeupdate', 'prepped', 'trouble', 'sounds', 'decent', 'volume', 'pictwittercomvx6c3h7xdh', 'serious', 'information', 'prof', 'considering', 'asking', 'shotoniphone', 'joy', 'moneyready', 'bottom', 'request', 'timelol', 'upgraded', 'keyboards', 'badthe', 'customer', 'jumbling', 'screens', 'photos', '10im', 'brokebishhhall', 'spoiled', 'consideration', 'mixed', 'day', 'port', 'xtrying', 'gripe', 'release', 'recently', 'goes', 'woman', 'lifei', 'yesterday', 'me', 'hippys', 'gooooodi', 'colors', 'icon', 'opportunity', 'levels', 'highest', 'wish', 'omg', 'standard', 'video', 'receiving', 'problems', 'horizontal', 'handson', 'bravo', 'pictwittercomw34iqif1tmthe', '1500i', 'rts', 'excuse', 'pricei', 'gift', 'chances', 'air', 'huge', 'macstadium', 'sound', 'ta', 'sooo', 'when', 'passwords', '256prolly', '2nd', 'isumm', 'a', 'ssame', 'netflix', 'toook', 'laterif', 'scanning', 'causing', 'morningi', 'headquarters', '280', 'qualityspeaker', 'motive', 'bnow', 'wallpaper', 'nogot', 'keyboard', 'expensivegoing', 'able', 'eventuallyi', 'replying', 'phones', 'x5', 'year', 'hit', 'giving', 'pricing', 'sense', 'of', 'ss', 'garden', 'percentage', 'thoughliterally', '10yearolds', 'perfect', 'max', 'upsomeone', 'lure', 'xscrew', 'homergonzalez', 'february', 'somethingonly', 'gear', 'produce', 'modeli', 'growing', 'scans', 'edit', 'scratch', 'live', 'maybe', 'character', 'half', 'pictwittercomiayz2yxnzaim', 'moms', 'flat', 'item', 'throw', 'colour', 'erfon', 'xshould', 'damn', 'plans', 'making', 'blesshttp', 'unintentionally', 'curryspcworld', 'temporarily', 'star', 'bruv', 'struggling', 'going', 'belom', 'rnbuy', 'iphoneunboxing', 'zstatus928770595763957760', '129', 'dis', 'aggressively', 'course', '23', 'camera', 'meiphone', 'jealous', 'saw', 'accelerate', 'everybody', 'nonissue', 'fasthey', 'soo', 'dinrcgot', 'ihnatko', 'brother', '3310my', 'thing', 'found', 'us', 'oh', '9000', 'leavinglike', '30mbit', 'waitfew', 'massively', 'fan', 'collapse', 'away', 'zoella', 'ordering', 'purchase', 'much', 'themi', 'finna', 'itdamn', 'image', 'ee', 'pulled', 'upi', 'funny', 'capability', 'learning', 'new', 'adapting', 'better', 'pixel3', 'spend', 'show', 'posting', 'been', 'just', 'staff', 'attack', 'nicei', 'ngl', 'brush', 'vulnerable', 'grip', 'helpyea', 'technologyim', 'severity', 'macworldcomarticle323667', 'content', 'mind', 'wanted', 'shittyi', 'self', 'decision', 'scammed', 'applecom', 'convincing', 'towow', 'over', 'months', 'soon', 'afeh', 's10', 'preferred', 'howto', 'red', 'realize', 'squared', 'ex', 'yeri', 'gigabit', 'cameraso', 'youtube', 'futurei', 'pluswhen', 'perfectly', 'thrown', 'today', '8talking', 'usall', 'nothingpraying', 'pics', 'churros', 'thoughiphone', 'center', 'excited', 'tf', 'humble', 'returned', 'iphone7', 'mingis', '4', 'streams', 'itmy', 'brotheri', 'tutorials', 'exchange', 'bari', 'products', 'mkbhd', 'seems', 'thousand', 'a37with', 'placed', '1010', 'event', 'fckn', 'follow', 'gb', 'wide', 'never', 'telling', 'thati', 'arrives', 'nothing', 'phoneless', 'pm', 'absolutely', 'eedaniphonexoranyotherexpensivene1820248464utm_mediumsharefromsiteutm_sourcefield_guide_twitter', 'took', 'tatus927373826777931776', 'oversaturated', 'upfront', 'ok', 'youtubeou89o_ppubya', 'missed', 'facialrecognition', 'trueok', 'fucking', 'youtubepugnosocns8a', 'itcouldnt', 'development', 'company', 'business', 'xhow', 'example', 'around', 'iphanboys', 'vouchercloud', 'resist', 'super', 'mentioned', 'usesnope', 'sampe', 'phoneim', '6yall', 'keep', 'dust', 'ididnt', 'december', 'experiencei', 'twice', 'paye', 'may', 'dorostudylawinfo2017091611', 'happyapple', 'au', 'special', 'doubts', 'idk', 'unlock', 'hahaneed', 'ferrari', 'wouldnt', 'wi', 'bugged', 'genius', 's8', 'lower', 'innovation', 'label', 'unresponsive', 'cuz', 'todolist', 'nowiphone', 'fucked', 'planner', 'wit', 'itmight', 'tbh', 'temptation', 'tweaking', 'laptop', 'itits', 'googlyafuzy', 'pici', 'verizon', 'pricesactually', 'phone', 'dad', 'yaall', 'broke', 'seriouslydebt', 'disappointed', 'plagued', 'apps', 'support', 'deal', 'hand', 'nice', 'expensive', 'order', 'whole', 'ppl', 'minutes', 'xi', 'twittercomrianjohnsonst', 'specs', 'saying', 'refuse', 'everytime', 'economical', 'allow', 'discount', 'debating', 'taking', 'grown', 'competitors', 'dot', 'prepared', '8before', 'worked', 'linkedinim', 'meanonly', 'side', 'reply', 'instai', 'uc', 'hang', 'dilemma', 'turn', 'smallcant', 'lion', 'twittercommscolostatus', 'putting', 'autodisconnected', 'here', 'salesomeone', 'sony', 'luck', 'hopefully', 'twittercomtmobilestatus', 'possibly', 'pictwittercomama02k5njci', 'grand', 'drops', 'socialmediastrategisti', 'productsletterthanks', 'we', 'loss', 'presenting', 'tomorrowim', 'alreadywtf', 'reduce', 'program', 'lack', 'amazed', 'aus', '926235033358155777', 'badwe', 'reaches', 'depth', 'rudely', 'clear', 'prices', '545', 'birthday', 'criminal', 'soooo', 'pretty', 'someone', 'shitreduce', 'off', 'my', 'animojisfuck', 'die', 'spoken', 'allunpopular', 'storesi', 'theres', 'australiaget', 'ibooks', 'graysondolan', 'spensive', 'future', 'dontti', 'daughters', 'hotspot', 's928670046565515264', 'itselflmaooo', 'level', 'pictures', 'petty', '17', 'eurotrip', 'jet', 'goddd', 'and', 'number', 'applei', 'changing', '16', 'lags', 'sugar', 'call', 'or', 'emergency', 'uki', 'now', 'site', 'choiceiphone', '2309', 'relate', '100', 'itbabe', 'twittercommanxomemiasta', 'single', 'full', 'higher', 'tell', 'fantastic', 'methis', 'pictwittercomuhpefph8yni', 'unlockedtryna', 'messaging', 'lmk', 'powerful', 'with', 'shoved', 'ima', 's1068249266026614784', 'bitch', 'deliver', 'gadget', 'text', 'improving', 'lgv10', 'springs', 'lcd', 'trade', 'bei', 'satisfaction', 'applenewsa5quuwcqrbun9', 'recognize', '128gb', 'wife', 'notification', 'upis', 'hotel', 'smartphones', 'pulling', 'following', 'piezoelectric', 'thothe', 'satisfied', 'recognition', 'legit', 'current', 'pictwittercomet8zq3tjtkbuy', 'siracusa', 'dickhead', 'otterbox', 'bitly2z2qjv5', 'like', 'local', 'cost', 'werent', 'speed', 'outdatedthis', 'gives', 'homescreen', '9the', 'compelling', 'account', 'willing', 'enchantments', 'days', 'marketing', 'black', 'lightning', 'wrong', 'online', 'commercials', 'shitty', '1password', 'hope', 'iphonerepairchargesareexcruciatinglyexpensive', 'e8n96wyoq', 'pencil', 'art', 'sensitive', 'couldnt', 'ipadand', 'developers', 'wired', 'outtta', 'didnt', 'uk', 'possible', 'extension', 'web', 'glitching', 'student', 'remove', 'read', 'talking', 'concerns', 'test', 'adult', 'meam', 'same', 'ship', 'thought', 'muchmy', 'seem', '4500', 'sensthey', 'xdo', 'thingi', 'tech', 'xyou', 'nowthink', '13', 'create', 'drives', 'suck', 'chargetecno', 'steep', 'portion', '78', 'colombia', 'none', 'https', 'oldim', 'meso', 'flagships', 'alreadylooks', '10gb', 'dumpty', 'allnew', 'give', 'weeks', 'ten', 'dimensions', '1068026546504548352', 'pernah', 'thisi', 'phonehate', 'brand', 'spider', 'wireless', 'takes', 'lmaooo', 'models', 'jshsjs', 'att', 'binance', 'seun', 'line', 'radio', 'pictwittercom3ech4wkrjcneed', 'upgrade', 'itwish', 'another', 'maxhello', 'totally', 'buttonmy', 'planet', 'hype', 'status930437339305971712', 'really2', 'fanboys', '28771583723823104', 'sim', '8plus', 'thinks', 'youtubedrveunle5noa', 'want', 'included', 'lmaoim', 'idiot', 'insane', 'humblei', 'methanks', 'archaic', '1', 'wendy', 'launch', 'nowlmaoooo', 'nobrainer', 'ruining', 'boltonanion', 'print', 'anywhere', 's9', 'since', 'everyone', 'awesome', 'roast', 'bought', 'reserve', 'end', 'ever', 'tapi', 'imma', 'spinning', 'unlimited', 'moneythis', 'wayso', '5', 'whats', 'review', 'countdid', 'for', 'evidence', 'restart', 'kinda', 'xthats', 'worth', 'absorbed', 'collectors', 'owe', 'recognizing', 'pictwittercom71pjcufytyi', 'razor', 'appli', '11', 'twelve', 'he', 'easier', 'emojis', 'emoji', '10', 'else', 'cracked', 'idthinkin', 'slash', 'georgia', 'absolute', 'boringembracing', 'nominate', 'breaks', 'maybejust', 'saydo', 'copies', 'selling', 'losers', 'cracklingsound', 'bitly2lywkme', 'coolall', 'horrible', 'goodpeople', '256', 'contractlike', 'replace', 'can', 'update', 'logo', '540', 'cpwtweets', 'guys', 'giant', 'apples', 'battery', 'thatyour', 'having', 'coming', 'true', 'seei', 'post', 'newer', 'anaseini', 'bundle', 'wth', 'wonder', 'canon', '256gb', 'waterproofapples', 'itapple', 'bud', 'lolso', '500', 'thats', 'pro', 'complaint', 'henrywood2142', 'rn', 'this', 'color', 'cancel', 'something', 'called', 'newscan', 'runs', 'face', 'updating', 'designed', 's928516416126496768', 'breaking', 'to', 'fixed', 'evolve', 'outi', 'fact', 'india', 'retarded', 'spent', 'monthiphone', 'gamechanging', 'favourite', '179', 'two', 'authority', 'ridiculously', 'jokes', 'ride', 'pictwittercoml5enx6gjj9get', 'appeared', 'twittercomunboxtherapys', 'screaming', 'reallyyyyy', 'thathad', '2017', 'those', 'lee', 'buying', 'someones', 'sugardaddy', 'iphonexlololol', 'lmao', 'shouldnt', 'cultcast', 'itaargh', 'iphoneshe', 'ethandolan', 'invoke', 'ditching', 'lord', 'experiences', 'advertising', 'trick', 'login', 'itnow', 'pictwittercom8odmkuxsrkto', 'people', 'cut', 'freaking', 'plustbh', 'sleeker', 'shouldbuy', 'greatkid', '109', 'plusim', 'ucstarfest', 'act', 'holding', 'fix', 'photographers', 'ios11', 'okatt', 'filed', 'http', 'had', 'stay', 'least', 'pictwittercom96fiwaw7kwbuy', 'xafter', 'did', 'charged', 'havent', 'ops', 'justice', 'mum', 'irritating', 'connected', 'nothingto', 'xget', 'awesomeme', 'ifttt2hy1zot', 'greatest', 'photography', 'someoneyou', 'control', 'tree', 'payment', 'felt', 'pod', 'mehn', 'irl', 'abroad', 'low', 'lmaoooo', 'falling', 'pictwittercom3w0so5s3wnget', 'superior', 'weeki', 'phoneiphone', 'promote', 'hate', 'hondainamerica', 'agreei', 'decided', 'ray', 'twittercomgodsperfection', 'ridiculous', 'exception', 'devices', 'bout', 'freezes', '15', 'materialmy', 'problem', 'no', '0macappsapplesclips20putsyouinthemillenniumfalconoramegadestroyerhtml', 'laptops', 'travel', 'hon', 'blacked', 'parents', 'rajivmakhni', 'years', 'fantasy', 'shipping', 'carry', '350', 'andnskcoakdkslsi', 'vudufans', 'cheaper', 'sounattractive', 'australiareturned', 'january', 'fresh', 'thenyou', 'mechanicwe', 'pocket', 'ends', 'generation', 'pictwittercomckyos4jwuti', 'stoopid', 'terms', 'too', 'yearsi', 'vs', 'samsung', 'does', 'calendar', 'xmas', 'pictwittercomvupeg5nezxam', 'bothers', 'data', 'complaining', 'about', 'working', 'impossible', 'reservation', 'freewould', '2150', 'girl', 'coldmy', 'max4200', '152', 'nov', 'especially', 'snap', 'spending', 'xits', 'deadass', 'til', 'funds', 'sorta', 'acknowledge', 'mine', 'played', 'pictwittercomgw5lvdvsdcso', 'said', 'screenyall', '17we', 'funi', 'maroc_telecom', 'wont', 'smaller', 'prefer', 'morning', 'cord', 'subsidized', 'because', 'everythingi', '99cents', 'tryna', 'looking', 'physically', 'sams', 'pros', 'customers', 'meri', 'wearing', 'twittercomnadeshotstatu', 'hecho', 'hardest', 'helps', 'hahahait', 'isgod', '7finally', 'heavenordered', 'lmfaothe', 'along', 'i', 'makessense', 'tim_cook', 'oneawesome', 'already', 'running', 'nah', 'iam_erica', 'foldingi', 'ups', 'pictwittercomzhgomp7sr3iphone', 'latest', 'pixel', 'specifically', 'lessons', 'cook', '3d', 'smhhi', 'sadly', 'noticeablely', 'comparisons', 'retweet', 'exited', 'austinmann', 'things', 'pricetag', 'uttar', '30iphone', 'loliphone', 'store', 'charging', 'trynna', 'updated', 'dream', 'glad', 'might', 'couple', 'saidsprint', 'wig', 'ios1111', 'stunt', 'badoh', 'written', 'oneyou', 'controlbesides', 'follower', '402i', 'eitherios', 'explanation', 'hes', 'outshining', 'bit', 'attcaresonly', 'noted', 'heard', 'users', 'bar', 'amount', 'cabinet', '400k', 'display', '9yo', 'annoyingi', 'knew', 'hi', '247', 'close', 'cuts', 'unclaimed', 'chose', 'regular', 'id', 'newest', 'envirofone', 'payments', 'poverty', 'nervous', 'dualipajust', 'sick', 'twittercombusinessinside', 'copied', 'htlyjzup50fbcgr', 'mts', 'shared', 'matter', 'polaroidyour', 'thoughcant', 'four', 'retort', 'usetempted', 'ugh', 'forward', '90k', 'casinothe', 'code', '999', 'bell', 'somethingall', 'abba', 'till', 'reported', 'poor', 'meant', 'bigger', 'leastits', 'language', 'itworst', 'notchbad', 'except', 'late', 'simular', 'wtfi', 'failsi', 'gucci', '256g', 'wedding', 'kind', 'fullestiphone', 'folk', 'decade', 'ratu', 'xwhen', '7pm', 'hahaomg', 'takut', 'offense', 'actually', 'limit', 'say', '245', 'sorryhate', 'bring', 'send', 'tiniest', 'harps', 'transit', 'change', 'counterpartsi', 'mani', 'not', 'jungkook', 'ciaravinoecon', 'flipitgwznhh', 'youtube7ogyolyko6aa', 'knowi', 'scheme', 'food', 'uselessugh', 'so', '105', 'season', 'wrongdamn', 'la', 'danggg', 'rubber', 'alsoi', 'dm', 'many', 'prettyyall', 'youre', 'clearly', 'atus928712958519201792', 'yes', 'pluse', 'omo', 'david', 'yall', 'proper', 'basurathe', 'wrng', 'ew', 'enjoying', 'van', 'loli', 'twittercomjimmymurrills', 'pictwittercomegzhxaeljgomg', 'zar', 'hell', 'nose', 'enoughgonna', 'way', 'youtubeit', 'ask', 'baari', 'luckman', 'excruciatingly', 'deb', 'oc', 'prolly', 'dying', '279', '64gbawesome', 'crazy', 'pictwittercompqhsf2wxc9should', 'pictwittercomdgwprazfrkrip', 'they', 'enough', 'school', 'batches', 'kids', 'apple', 'meonly', 'buy', 'drawls', '360i', 'car', 'everythinghey', 'any', 'owner', 'muchnot', 'piece', 'israel', 'httpwww', 'latestappleiphonecomshouldyoubuy', 'were', 'whos', '0decisions', 'hopenotouthow', 'see', 'narrower', 'ending', 'talked', 'pissedi', 'reviewsso', 'skegness', 'whether', 'kingi', 'buddy', 'goodi', 'facial', '1when', 'exist', '14', 'motivation', 'honest', '6t', 'os', 'loyal', 'iphonei', 'eiiapplesupport', 'twittercomvrnasty_statu', 'lifted', 'personthey', 'tomorrow', 'stock', 'bcs', 'signal', 'hahai', 'fisrt', 'smh', 'priced', 'lmaomy', 'iti', 'stories', 'some', 'taxation', 'series', 'idea', 'shoutout', 'f', 'notified', 'reason', 'hear', 'google', 'breadcrumb', 'rite', 'noticed', 'piss', 'youtubekrac4mh_nw8a', 'airpods', 'guess', 'devicetrying', '6', 'atus928349765582118912', 'plus', 'check', 'nonsense', 'casa', 'drop', 'landscape', 'flip', 'carmy', 'pictwittercomcaxvppelvrive', 'plusi', 'bugs', 'somebody', 'god', 'httpswww', 'night', 'well', 'mom', 'fools', '6s', 'how', 'input', 'durability', '72', 'times', 'wallet', 'loved', 'thingsyouneedtoknowabouttheiphonex', 'censoring', 'personally', 'vbucks', 'andno', 'android', 'pictwittercomdlbbkairrri', 'room', 'starbucks', 'twittercomdsharp_runsst', 'wot', 'upsetting', 'stunting', 'itunes', 'qualityget', 'wasnt', 'one', 'sample', 'smhits', 'flashlight', 'clickbaity', 'iphonexoriphone8plus', 'crummy', 'doorstep', 'im', 'grandma', '950', 'seriously', 's10e', 'tmobile', 'polaroid', 'indonesia', 'uses', 'help', 'hearing', 'false', 'baseveryone', 'came', 'switchingiphone', 'toy', 'glass', 'great', 'enabler', '7plus', 'class', 'minsshes', 'pictwittercomjrkrfq1nvxthe', 'repair', 'cast', 'motherfuckers', 'friend', 'ownershipits', 'niggas', 'baby', 'others', 'ui', 'music', 'long', 'credit', 'gone', 'foreheads', 'free', 'mall', 'screenshotted', 'match', 'introduce', 'mothers', 'moment', 'droid', 'avatars', 'commercial', 'month', 'nigga', 'spring', 'swhen', 'iphonex', 'lose', 'stunning', 'costing', 'pissed', 'xpraying', 'that11', 'billim', 'supposed', 'yet', 'looksame', '7', 'freelove', 'ad', 'layout', 'everythingmultiple', 'breakable', 'tbhi', 'prereleasethe', 'seen', 'episode', 'refine', 'tax', 'stores', 'airtel', 'gets', 'increased', 'lowkey', 'home', 'fanboy', 'onto', 'twittercommaroc_telecom', 'clean', 'seconds', 'daybreakasia', 'include', 'start', 'alreadyi', 'boththese', 'pictwittercomwuotf54mipshould', 'annoy', 'option', 'across', 'feel', 'tho', 'technology', 'as', 'portrait', 'executive', 'se', 'rich', 'expensivewould', '75', 'believe', 'faceidi', 'loves', 'applesupportyou', 'which', 'unwanted', 'club', 'definitely', 'inch', 'featuresi', 'p', 'gotten', 'recevoir', 'onlyinafrica', 'itwas', 'dey', 'shit', 'outright', 'denied', 'quite', 'scroll', 'bifch', 'username', 'iphonexmy', 'alexlindsay', 'clips', 'jony', 'imei', 'monthas', 'promised', 'animoji', 'applesupport', 'paying', 'amazing', 'desperately', 'questionable', 'return', 'beautiful', 'ive', 'ticket', 'ashleybeauty43', '256gbsince', 'dollar', '2020wowi', 'basically', 'breakableexpensiverepairevermade090829150htmltsrcfauxdal', 'holiday', 'explain', 'reviewshow', 'replacinglove', 'helptested', 'confused', 'ggive', 'omgi', 'surprised', 'original', '8', 'advent', 'mean', 'clothes', 'significant', 'next', 'joeygraceffa', 'xr', 'advicing', 'yr', 'gen', 'naira', 'cited', 'its', 'shitgotta', 'hellllla', 'reviewspathetic', 'slower', '276', 'issue', 'xmakes', 'fothe', 'thatll', 'offangle', 'dmd2010i', 'important', 'youve', 'everything', 'resolution', 'sorry', 'shitomg', 'whateva', 'thenjktrying', 'socialmedia', 'every', 'old', 'youtube0ercfyjqhn0a', 'mps', 'honestlythinking', 'devicei', 'scare', 'on', 'xapple', 'ios', 'supped', 'right', 'certainly', 'itwhen', 'beat', 'brazil', 'freezewe', '1after', 'paintings', 'blazing', 'difference', 'swapped', 'nyc', 'annoying', 'meltdown', 'dryi', 'let', 'app', 'pictwittercome68xxa0qay', 'dive', 'lie', 'look', 'piasa', 'adopted', 'picked', 'technologies', 'morons', 'terrible', 'prove', 'screenshot', 'cold', 'unless', 'dumbass', 'itiphone', 'anybody', 'identify', 'the', 'macbook', 'choice', 'offered', 'saliva', 'ministers', 'trolls', 'smthnnice', 'fingerprint', 'ugly', 'ground', 'means', 'galaxys', 'remember', 'shirti', 'beli', 'youtubee6rmnflofe8a', 'delivered', 'davidinglestvsaw', 'sit', 'note', 'bug', 'roman', 'officialimicca', 'whoever', 'think', 'xso', 'worksforme', 'screensi', 'sister', 'hands', 'degrees', 'omgitsalia', 'lagging', 'friday', 'realise', 'u', 'flagship', 'jjtlove', 'lazy', 'computersi', 'good', 'near', 'thanks', 'onei', 'arent', 'summary', 'quicker', 'fecesi', 'ur', '7its', 'iosblack', 'thoughlove', 'iphonexeven', 'multiple', 'twittercomsnazzyqstatus', 'features', 'feelyeah', 'missing', 'job', 'massive', 'brings', 'service', 'niis', 'paywhy', 'modern', 'worst', 'jailbreak', 'paper', 'convince', 'hot', 'purposely', 'ifttt2m9qbda', 'messing', 'thousands', 'either', 'sexy', 'iphoneo', 'tatus1112040566194352128', 'sucking', 'outside', 'xokay', 'corners', 'thatshould', 'forfinally', 'guessing', 'manager', 'organs', 'chief', 'last', 'companies', 'mint', 'xpensive', 'us816613182479466496', '13333', '150', 'lmaoo', 'literally', 'wasso', 'bro', 'havini', 'switch', 'ziegler', '1000', 'lame', 'wan', 'velocity', 'rstatus930155971191681026', 'pictwittercomz5kosv72yemy', 'watchnot', 'it', 'improvementscrazy', 'other', 'fbme5jfadmlnr', 'androids', 'desaster', 'euro', 'nowi', 'use', 'paid', 'oooo', 'audio', 'sullbee', '9', 'applehow', 'booked', 'sensormy', 'mask', 'animojineeda', 'extremely', 'knowwww', 'dropped', 'headphone', 'turning', 'afford', 'play', '2000', 'green', 'have', 'cant', 'refund', 'hai', 'a1901', 'srry', 'versionpoor', 'but', 'fail', 'ordinary', 'card', 'pride', 'bens', 'bust', 'xiphone', 'sucksi', 'comes', 'happy', 'htc', 'screen', 'tall', 'computer', 'wild', 'bullshit', 'twittercomolajvdestatus', 'finest', 'gimmicks', 'expensivei', 'websiteiphone', 'y3', 'from', 'w', 'atus928766636563185664', 'life', 'releasealhamdulillah', 'garyvee', 'system', 'purpose', 'sprint', 'independent', 'appreciate', '3', 'rest', 'swear', 'extra', 'ohyoure', 'sudden', 'complain', 'trees', 'fun', 'really', 'front', 'make', 'sowhy', 'preorder', 'speaker', 'earlier', 'opinion', 'camerahow', 'succes', '1k']\n"
     ]
    }
   ],
   "source": [
    "def make_unique_li(li_cleanText):\n",
    "    unique_words_set= set(li_cleanText)\n",
    "    unique_word_li = list(unique_words_set)\n",
    "    return unique_word_li\n",
    "\n",
    "\n",
    "def stemmed(li_cleanText):\n",
    "    count_stemed=0\n",
    "    for word in li_cleanText:\n",
    "        if word[-1]==\"s\":\n",
    "            li_cleanText[count_stemed]=word[:-1]\n",
    "        elif word[-2:]==\"ed\":\n",
    "            li_cleanText[count_stemed]=word[:-2]\n",
    "        elif word[-3:]==\"ing\":\n",
    "            li_cleanText[count_stemed]=word[:-3]\n",
    "        count_stemed+=1  \n",
    "    return li_cleanText   \n",
    "# li_stemmed = stemmed(li_cleaned_text)\n",
    "uniqueWords = make_unique_li(li_cleaned_text)\n",
    "print(uniqueWords)"
   ]
  },
  {
   "cell_type": "code",
   "execution_count": 7,
   "metadata": {},
   "outputs": [],
   "source": [
    "def Bag():\n",
    "    textList = []\n",
    "    for doc in final_df['text']:\n",
    "        words = doc.split()\n",
    "        tempWordList = []\n",
    "        isThere = False\n",
    "        for selectWord in uniqueWords:\n",
    "            for word in words:\n",
    "                if selectWord == word.lower():\n",
    "                    isThere = True\n",
    "                    break\n",
    "            \n",
    "            if(isThere == True):\n",
    "                tempWordList.append(1)\n",
    "            else:\n",
    "                tempWordList.append(0)\n",
    "        textList.append(tempWordList)\n",
    "    return textList\n",
    "\n",
    "def dataReadyForModel():\n",
    "    X = Bag()\n",
    "    Y = []\n",
    "    for i in final_df['class']:\n",
    "        if i == 'yes':\n",
    "            Y.append(1)\n",
    "        else:\n",
    "            Y.append(0)\n",
    "    \n",
    "    return (X,Y)\n",
    "\n",
    "X_train, Y_train = dataReadyForModel()    \n",
    "\n"
   ]
  },
  {
   "cell_type": "code",
   "execution_count": 8,
   "metadata": {},
   "outputs": [
    {
     "data": {
      "text/plain": [
       "(903,)"
      ]
     },
     "execution_count": 8,
     "metadata": {},
     "output_type": "execute_result"
    }
   ],
   "source": [
    "X_train, Y_train = dataReadyForModel() \n",
    "xNp = np.array(X_train)\n",
    "yNp = np.array(Y_train)\n",
    "yNp.shape"
   ]
  },
  {
   "cell_type": "code",
   "execution_count": 9,
   "metadata": {},
   "outputs": [
    {
     "name": "stderr",
     "output_type": "stream",
     "text": [
      "/home/namitha/majorproject/mp/lib/python3.6/site-packages/tensorflow/python/framework/dtypes.py:469: FutureWarning: Passing (type, 1) or '1type' as a synonym of type is deprecated; in a future version of numpy, it will be understood as (type, (1,)) / '(1,)type'.\n",
      "  _np_qint8 = np.dtype([(\"qint8\", np.int8, 1)])\n",
      "/home/namitha/majorproject/mp/lib/python3.6/site-packages/tensorflow/python/framework/dtypes.py:470: FutureWarning: Passing (type, 1) or '1type' as a synonym of type is deprecated; in a future version of numpy, it will be understood as (type, (1,)) / '(1,)type'.\n",
      "  _np_quint8 = np.dtype([(\"quint8\", np.uint8, 1)])\n",
      "/home/namitha/majorproject/mp/lib/python3.6/site-packages/tensorflow/python/framework/dtypes.py:471: FutureWarning: Passing (type, 1) or '1type' as a synonym of type is deprecated; in a future version of numpy, it will be understood as (type, (1,)) / '(1,)type'.\n",
      "  _np_qint16 = np.dtype([(\"qint16\", np.int16, 1)])\n",
      "/home/namitha/majorproject/mp/lib/python3.6/site-packages/tensorflow/python/framework/dtypes.py:472: FutureWarning: Passing (type, 1) or '1type' as a synonym of type is deprecated; in a future version of numpy, it will be understood as (type, (1,)) / '(1,)type'.\n",
      "  _np_quint16 = np.dtype([(\"quint16\", np.uint16, 1)])\n",
      "/home/namitha/majorproject/mp/lib/python3.6/site-packages/tensorflow/python/framework/dtypes.py:473: FutureWarning: Passing (type, 1) or '1type' as a synonym of type is deprecated; in a future version of numpy, it will be understood as (type, (1,)) / '(1,)type'.\n",
      "  _np_qint32 = np.dtype([(\"qint32\", np.int32, 1)])\n",
      "/home/namitha/majorproject/mp/lib/python3.6/site-packages/tensorflow/python/framework/dtypes.py:476: FutureWarning: Passing (type, 1) or '1type' as a synonym of type is deprecated; in a future version of numpy, it will be understood as (type, (1,)) / '(1,)type'.\n",
      "  np_resource = np.dtype([(\"resource\", np.ubyte, 1)])\n",
      "/usr/lib/python3.6/importlib/_bootstrap.py:219: RuntimeWarning: compiletime version 3.5 of module 'tensorflow.python.framework.fast_tensor_util' does not match runtime version 3.6\n",
      "  return f(*args, **kwds)\n"
     ]
    },
    {
     "ename": "ModuleNotFoundError",
     "evalue": "No module named 'tensorflow.keras'",
     "output_type": "error",
     "traceback": [
      "\u001b[0;31m---------------------------------------------------------------------------\u001b[0m",
      "\u001b[0;31mModuleNotFoundError\u001b[0m                       Traceback (most recent call last)",
      "\u001b[0;32m<ipython-input-9-3a2b79e4c0c3>\u001b[0m in \u001b[0;36m<module>\u001b[0;34m\u001b[0m\n\u001b[1;32m      1\u001b[0m \u001b[0;32mimport\u001b[0m \u001b[0mtensorflow\u001b[0m \u001b[0;32mas\u001b[0m \u001b[0mtf\u001b[0m\u001b[0;34m\u001b[0m\u001b[0;34m\u001b[0m\u001b[0m\n\u001b[0;32m----> 2\u001b[0;31m \u001b[0;32mfrom\u001b[0m \u001b[0mtensorflow\u001b[0m\u001b[0;34m.\u001b[0m\u001b[0mkeras\u001b[0m \u001b[0;32mimport\u001b[0m \u001b[0mlayers\u001b[0m\u001b[0;34m\u001b[0m\u001b[0;34m\u001b[0m\u001b[0m\n\u001b[0m",
      "\u001b[0;31mModuleNotFoundError\u001b[0m: No module named 'tensorflow.keras'"
     ]
    }
   ],
   "source": [
    "import tensorflow as tf\n",
    "from tensorflow.keras import layers"
   ]
  },
  {
   "cell_type": "code",
   "execution_count": null,
   "metadata": {},
   "outputs": [],
   "source": [
    "model = tf.keras.Sequential()\n",
    "# Adds a densely-connected layer with 64 units to the model:\n",
    "model.add(layers.Dense(64, activation='relu'))\n",
    "# Add another:\n",
    "model.add(layers.Dense(64, activation='relu'))\n",
    "# Add a softmax layer with 10 output units:\n",
    "model.add(layers.Dense(2, activation='softmax'))\n",
    "\n",
    "model.compile(optimizer='adam',\n",
    "              loss='sparse_categorical_crossentropy',\n",
    "              metrics=['accuracy'])\n"
   ]
  },
  {
   "cell_type": "code",
   "execution_count": 178,
   "metadata": {},
   "outputs": [
    {
     "name": "stdout",
     "output_type": "stream",
     "text": [
      "Epoch 1/10\n",
      "755/755 [==============================] - 0s 191us/sample - loss: 0.6438 - acc: 0.6384\n",
      "Epoch 2/10\n",
      "755/755 [==============================] - 0s 179us/sample - loss: 0.6454 - acc: 0.6384\n",
      "Epoch 3/10\n",
      "755/755 [==============================] - 0s 179us/sample - loss: 0.6464 - acc: 0.6384\n",
      "Epoch 4/10\n",
      "755/755 [==============================] - 0s 180us/sample - loss: 0.6511 - acc: 0.6384\n",
      "Epoch 5/10\n",
      "755/755 [==============================] - 0s 177us/sample - loss: 0.6466 - acc: 0.6384\n",
      "Epoch 6/10\n",
      "755/755 [==============================] - 0s 188us/sample - loss: 0.6474 - acc: 0.6384\n",
      "Epoch 7/10\n",
      "755/755 [==============================] - 0s 219us/sample - loss: 0.6530 - acc: 0.6371\n",
      "Epoch 8/10\n",
      "755/755 [==============================] - 0s 207us/sample - loss: 0.6436 - acc: 0.6424\n",
      "Epoch 9/10\n",
      "755/755 [==============================] - 0s 183us/sample - loss: 0.6434 - acc: 0.6384\n",
      "Epoch 10/10\n",
      "755/755 [==============================] - 0s 181us/sample - loss: 0.6429 - acc: 0.6384\n"
     ]
    },
    {
     "data": {
      "text/plain": [
       "<tensorflow.python.keras.callbacks.History at 0x18489841fd0>"
      ]
     },
     "execution_count": 178,
     "metadata": {},
     "output_type": "execute_result"
    }
   ],
   "source": [
    "model.fit(xNp, yNp, epochs=10)"
   ]
  },
  {
   "cell_type": "code",
   "execution_count": null,
   "metadata": {},
   "outputs": [],
   "source": []
  }
 ],
 "metadata": {
  "kernelspec": {
   "display_name": "Python 3",
   "language": "python",
   "name": "python3"
  },
  "language_info": {
   "codemirror_mode": {
    "name": "ipython",
    "version": 3
   },
   "file_extension": ".py",
   "mimetype": "text/x-python",
   "name": "python",
   "nbconvert_exporter": "python",
   "pygments_lexer": "ipython3",
   "version": "3.6.9"
  }
 },
 "nbformat": 4,
 "nbformat_minor": 2
}
